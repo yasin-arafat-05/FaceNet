{
 "cells": [
  {
   "cell_type": "markdown",
   "metadata": {},
   "source": [
    "<br>\n",
    "<br>\n",
    "<br>\n",
    "\n",
    "# Face recognition with `Siamese Network:`\n",
    "\n",
    "<br>\n",
    "<br>"
   ]
  },
  {
   "cell_type": "markdown",
   "metadata": {},
   "source": [
    "<br>\n",
    "\n",
    "# 1.1 `Import Dependencies:` \n",
    "\n",
    "<br>"
   ]
  },
  {
   "cell_type": "markdown",
   "metadata": {},
   "source": [
    "\n",
    "**Note:** Here, we will use `The Functional Api` In tensorflow.  <br>\n",
    "`The Keras functional API is a way to create models that are more flexible than the keras.Sequential API.`\n",
    "<br>\n",
    "\n",
    "[documentation](https://www.tensorflow.org/guide/keras/functional_api)\n"
   ]
  },
  {
   "cell_type": "code",
   "execution_count": 1,
   "metadata": {},
   "outputs": [
    {
     "name": "stderr",
     "output_type": "stream",
     "text": [
      "2024-09-03 15:54:58.888259: I external/local_xla/xla/tsl/cuda/cudart_stub.cc:32] Could not find cuda drivers on your machine, GPU will not be used.\n",
      "2024-09-03 15:54:59.069357: I external/local_xla/xla/tsl/cuda/cudart_stub.cc:32] Could not find cuda drivers on your machine, GPU will not be used.\n",
      "2024-09-03 15:54:59.160692: E external/local_xla/xla/stream_executor/cuda/cuda_fft.cc:485] Unable to register cuFFT factory: Attempting to register factory for plugin cuFFT when one has already been registered\n",
      "2024-09-03 15:54:59.363933: E external/local_xla/xla/stream_executor/cuda/cuda_dnn.cc:8454] Unable to register cuDNN factory: Attempting to register factory for plugin cuDNN when one has already been registered\n",
      "2024-09-03 15:54:59.421271: E external/local_xla/xla/stream_executor/cuda/cuda_blas.cc:1452] Unable to register cuBLAS factory: Attempting to register factory for plugin cuBLAS when one has already been registered\n",
      "2024-09-03 15:54:59.588442: I tensorflow/core/platform/cpu_feature_guard.cc:210] This TensorFlow binary is optimized to use available CPU instructions in performance-critical operations.\n",
      "To enable the following instructions: AVX2 FMA, in other operations, rebuild TensorFlow with the appropriate compiler flags.\n",
      "2024-09-03 15:55:01.656690: W tensorflow/compiler/tf2tensorrt/utils/py_utils.cc:38] TF-TRT Warning: Could not find TensorRT\n"
     ]
    }
   ],
   "source": [
    "\n",
    "# import standard dependencies:\n",
    "\n",
    "import cv2 as cv \n",
    "import os\n",
    "import random\n",
    "import numpy as np \n",
    "import matplotlib.pyplot as plt \n",
    "\n",
    "# import tensorflow for funcitonal api:\n",
    "import tensorflow as tf\n",
    "\n",
    "# We are going to do: \n",
    "# tf.keras.Model(inputs=(inputImage, varificationImage), outputs=[1,0])\n"
   ]
  },
  {
   "cell_type": "markdown",
   "metadata": {},
   "source": [
    "\n",
    "<br>\n",
    "\n",
    "# 1.2 `Set Gpu Growth:`\n",
    "\n",
    "<br>\n"
   ]
  },
  {
   "cell_type": "code",
   "execution_count": 2,
   "metadata": {},
   "outputs": [],
   "source": [
    "\n",
    "\n",
    "# i have no gpu on my computer that's why i'm gonna skip this.\n"
   ]
  },
  {
   "cell_type": "markdown",
   "metadata": {},
   "source": [
    "<br>\n",
    "\n",
    "# 1.3 `Create Folder Structure: `\n",
    "\n",
    "<br>"
   ]
  },
  {
   "cell_type": "code",
   "execution_count": 3,
   "metadata": {},
   "outputs": [],
   "source": [
    "\n",
    "# define folder name along with their path\n",
    "# we see this in facenet paper(check README.md), anchor to positive and anchor to negative.\n",
    "\n",
    "POS_PATH = os.path.join('data','positive')\n",
    "NEG_PATH = os.path.join('data',\"negative\")\n",
    "ANC_PATH = os.path.join('data','anchor')\n"
   ]
  },
  {
   "cell_type": "code",
   "execution_count": 4,
   "metadata": {},
   "outputs": [],
   "source": [
    "\n",
    "# create those folder if they are not exist:\n",
    "\n",
    "if not os.path.exists(POS_PATH):\n",
    "    os.makedirs(POS_PATH)\n",
    "if not os.path.exists(NEG_PATH):\n",
    "    os.makedirs(NEG_PATH)\n",
    "if not os.path.exists(ANC_PATH):\n",
    "    os.makedirs(ANC_PATH)\n",
    "\n",
    "\n",
    "\n"
   ]
  },
  {
   "cell_type": "markdown",
   "metadata": {},
   "source": [
    "<br>\n",
    "\n",
    "# 2. `Collect Positive and Anchors: `\n",
    "\n",
    "<br>"
   ]
  },
  {
   "cell_type": "markdown",
   "metadata": {},
   "source": [
    "## 2.1 `Untar Labelled Faces in the Wild Dataset:`\n",
    "\n",
    "[wild_data_set_link](https://vis-www.cs.umass.edu/lfw/)"
   ]
  },
  {
   "cell_type": "markdown",
   "metadata": {},
   "source": [
    "\n",
    "- We download the LTF(Fabelled Faces in the Wild Dataset in tgz format: ) \n",
    "- Now, extract that:\n",
    "- we are not implementing tripet loss in that case the image folder will be different .  \n"
   ]
  },
  {
   "cell_type": "code",
   "execution_count": 5,
   "metadata": {},
   "outputs": [],
   "source": [
    "# extract this file: \n",
    "!tar -xf lfw.tgz \n",
    "\n",
    "# we get a folder named lfw_funneled"
   ]
  },
  {
   "cell_type": "code",
   "execution_count": 6,
   "metadata": {},
   "outputs": [],
   "source": [
    "\n",
    "# here, we will find some folder endwith>> '.txt' just delete that files\n",
    "\n",
    "for file in os.listdir('lfw_funneled'):\n",
    "    if file.endswith('.txt'):\n",
    "        os.remove(os.path.join('lfw_funneled',file))\n",
    "    "
   ]
  },
  {
   "cell_type": "code",
   "execution_count": 7,
   "metadata": {},
   "outputs": [],
   "source": [
    "\n",
    "# Now, move all the images folder into data/negative folder:\n",
    "\n",
    "for directory in os.listdir('lfw_funneled'): # going through the all folder lfw_funneled:\n",
    "    for file in os.listdir(os.path.join('lfw_funneled', directory)): # from that folder going through all the image file:\n",
    "        EX_PATH = os.path.join('lfw_funneled', directory, file) # create path \n",
    "        NEW_PATH = os.path.join(NEG_PATH,file) # create new path \n",
    "        os.replace(EX_PATH,NEW_PATH) # now, replace them\n"
   ]
  },
  {
   "cell_type": "code",
   "execution_count": 8,
   "metadata": {},
   "outputs": [],
   "source": [
    "\n",
    "# after replace that we will delte the folder lfw_funneled:\n"
   ]
  },
  {
   "cell_type": "markdown",
   "metadata": {},
   "source": [
    "\n",
    "<br>\n",
    "\n",
    "# 2.2 `Collect Positive And Anchor Classes:`\n",
    "\n",
    "\n",
    "#### Note That: lfw Data set  image dimention is about (250x250): \n",
    "\n",
    "<br>"
   ]
  },
  {
   "cell_type": "code",
   "execution_count": 9,
   "metadata": {},
   "outputs": [
    {
     "ename": "KeyboardInterrupt",
     "evalue": "",
     "output_type": "error",
     "traceback": [
      "\u001b[0;31m---------------------------------------------------------------------------\u001b[0m",
      "\u001b[0;31mKeyboardInterrupt\u001b[0m                         Traceback (most recent call last)",
      "\u001b[1;32m/home/yasin/allProgram/FaceNet/siameseNetwork.ipynb Cell 18\u001b[0m line \u001b[0;36m3\n\u001b[1;32m      <a href='vscode-notebook-cell:/home/yasin/allProgram/FaceNet/siameseNetwork.ipynb#X23sZmlsZQ%3D%3D?line=0'>1</a>\u001b[0m cap \u001b[39m=\u001b[39m cv\u001b[39m.\u001b[39mVideoCapture(\u001b[39m0\u001b[39m)\n\u001b[0;32m----> <a href='vscode-notebook-cell:/home/yasin/allProgram/FaceNet/siameseNetwork.ipynb#X23sZmlsZQ%3D%3D?line=2'>3</a>\u001b[0m \u001b[39mwhile\u001b[39;00m(cap\u001b[39m.\u001b[39;49misOpened()):\n\u001b[1;32m      <a href='vscode-notebook-cell:/home/yasin/allProgram/FaceNet/siameseNetwork.ipynb#X23sZmlsZQ%3D%3D?line=3'>4</a>\u001b[0m     \u001b[39mpass\u001b[39;00m\n",
      "\u001b[0;31mKeyboardInterrupt\u001b[0m: "
     ]
    }
   ],
   "source": [
    "cap = cv.VideoCapture(0)\n",
    "\n",
    "while(cap.isOpened()):\n",
    "    pass"
   ]
  }
 ],
 "metadata": {
  "kernelspec": {
   "display_name": "venv",
   "language": "python",
   "name": "python3"
  },
  "language_info": {
   "codemirror_mode": {
    "name": "ipython",
    "version": 3
   },
   "file_extension": ".py",
   "mimetype": "text/x-python",
   "name": "python",
   "nbconvert_exporter": "python",
   "pygments_lexer": "ipython3",
   "version": "3.12.5"
  }
 },
 "nbformat": 4,
 "nbformat_minor": 2
}
